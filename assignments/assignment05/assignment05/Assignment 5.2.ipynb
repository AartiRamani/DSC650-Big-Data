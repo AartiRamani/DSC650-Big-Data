{
 "cells": [
  {
   "cell_type": "markdown",
   "id": "9ef10fa5",
   "metadata": {},
   "source": [
    "## Assignment 5.2"
   ]
  },
  {
   "cell_type": "code",
   "execution_count": 1,
   "id": "de70cf62",
   "metadata": {},
   "outputs": [],
   "source": [
    " # Loading the Reuters dataset\n",
    "from keras.datasets import reuters\n",
    "\n",
    "(train_data, train_labels), (test_data, test_labels) = reuters.load_data(num_words=10000)"
   ]
  },
  {
   "cell_type": "code",
   "execution_count": 2,
   "id": "0b8bfc78",
   "metadata": {},
   "outputs": [],
   "source": [
    "# Decoding newswires back to text (for testing)\n",
    "word_index = reuters.get_word_index()\n",
    "reverse_word_index = dict([(value, key) for (key, value) in word_index.items()])\n",
    "decoded_newswire = ' '.join([reverse_word_index.get(i - 3, '?') for i in train_data[0]])"
   ]
  },
  {
   "cell_type": "code",
   "execution_count": 3,
   "id": "3df88d00",
   "metadata": {},
   "outputs": [
    {
     "data": {
      "text/plain": [
       "'? ? ? said as a result of its december acquisition of space co it expects earnings per share in 1987 of 1 15 to 1 30 dlrs per share up from 70 cts in 1986 the company said pretax net should rise to nine to 10 mln dlrs from six mln dlrs in 1986 and rental operation revenues to 19 to 22 mln dlrs from 12 5 mln dlrs it said cash flow per share this year should be 2 50 to three dlrs reuter 3'"
      ]
     },
     "execution_count": 3,
     "metadata": {},
     "output_type": "execute_result"
    }
   ],
   "source": [
    "decoded_newswire"
   ]
  },
  {
   "cell_type": "code",
   "execution_count": 4,
   "id": "06ab693b",
   "metadata": {},
   "outputs": [],
   "source": [
    "# Encoding the data\n",
    "import numpy as np\n",
    "def vectorize_sequences(sequences, dimension=10000):\n",
    "    results = np.zeros((len(sequences), dimension))\n",
    "    for i, sequence in enumerate(sequences):\n",
    "        results[i, sequence] = 1.\n",
    "    return results\n",
    "\n",
    "#Vectorizing training and test data\n",
    "x_train = vectorize_sequences(train_data)\n",
    "x_test = vectorize_sequences(test_data)"
   ]
  },
  {
   "cell_type": "code",
   "execution_count": 5,
   "id": "4b319f11",
   "metadata": {},
   "outputs": [],
   "source": [
    "def to_one_hot(labels, dimension=46):\n",
    "    results = np.zeros((len(labels), dimension))\n",
    "    for i, label in enumerate(labels):\n",
    "        results[i, label] = 1.\n",
    "    return results\n",
    "    \n",
    "#Vectorizing training and test data\n",
    "one_hot_train_labels = to_one_hot(train_labels)\n",
    "one_hot_test_labels = to_one_hot(test_labels)"
   ]
  },
  {
   "cell_type": "code",
   "execution_count": 6,
   "id": "d398c04f",
   "metadata": {},
   "outputs": [],
   "source": [
    "from keras.utils.np_utils import to_categorical\n",
    "\n",
    "one_hot_train_labels = to_categorical(train_labels)\n",
    "one_hot_test_labels = to_categorical(test_labels)"
   ]
  },
  {
   "cell_type": "code",
   "execution_count": 7,
   "id": "7853636f",
   "metadata": {},
   "outputs": [],
   "source": [
    "# Model definition\n",
    "from keras import models\n",
    "from keras import layers\n",
    "model = models.Sequential()\n",
    "model.add(layers.Dense(64, activation='relu', input_shape=(10000,)))\n",
    "model.add(layers.Dense(64, activation='relu'))\n",
    "model.add(layers.Dense(46, activation='softmax'))"
   ]
  },
  {
   "cell_type": "code",
   "execution_count": 8,
   "id": "55710137",
   "metadata": {},
   "outputs": [],
   "source": [
    "# Compiling the model\n",
    "model.compile(optimizer='rmsprop',\n",
    "loss='categorical_crossentropy',\n",
    "metrics=['accuracy'])"
   ]
  },
  {
   "cell_type": "code",
   "execution_count": 9,
   "id": "f8919534",
   "metadata": {},
   "outputs": [],
   "source": [
    "#  Setting aside a validation set\n",
    "x_val = x_train[:1000]\n",
    "partial_x_train = x_train[1000:]\n",
    "y_val = one_hot_train_labels[:1000]\n",
    "partial_y_train = one_hot_train_labels[1000:]"
   ]
  },
  {
   "cell_type": "code",
   "execution_count": 10,
   "id": "6a75eede",
   "metadata": {},
   "outputs": [
    {
     "name": "stdout",
     "output_type": "stream",
     "text": [
      "Epoch 1/20\n",
      "16/16 [==============================] - 3s 85ms/step - loss: 2.6864 - accuracy: 0.4951 - val_loss: 1.8390 - val_accuracy: 0.6210\n",
      "Epoch 2/20\n",
      "16/16 [==============================] - 1s 48ms/step - loss: 1.5523 - accuracy: 0.6729 - val_loss: 1.3865 - val_accuracy: 0.6840\n",
      "Epoch 3/20\n",
      "16/16 [==============================] - 1s 49ms/step - loss: 1.1961 - accuracy: 0.7328 - val_loss: 1.1959 - val_accuracy: 0.7270\n",
      "Epoch 4/20\n",
      "16/16 [==============================] - 1s 52ms/step - loss: 0.9790 - accuracy: 0.7798 - val_loss: 1.0737 - val_accuracy: 0.7640\n",
      "Epoch 5/20\n",
      "16/16 [==============================] - 1s 49ms/step - loss: 0.8152 - accuracy: 0.8212 - val_loss: 0.9906 - val_accuracy: 0.7840\n",
      "Epoch 6/20\n",
      "16/16 [==============================] - 1s 49ms/step - loss: 0.6748 - accuracy: 0.8533 - val_loss: 0.9341 - val_accuracy: 0.8060\n",
      "Epoch 7/20\n",
      "16/16 [==============================] - 1s 48ms/step - loss: 0.5642 - accuracy: 0.8768 - val_loss: 0.9109 - val_accuracy: 0.8000\n",
      "Epoch 8/20\n",
      "16/16 [==============================] - 1s 48ms/step - loss: 0.4745 - accuracy: 0.8973 - val_loss: 0.8734 - val_accuracy: 0.8040\n",
      "Epoch 9/20\n",
      "16/16 [==============================] - 1s 49ms/step - loss: 0.3979 - accuracy: 0.9168 - val_loss: 0.8504 - val_accuracy: 0.8150\n",
      "Epoch 10/20\n",
      "16/16 [==============================] - 1s 50ms/step - loss: 0.3416 - accuracy: 0.9295 - val_loss: 0.8429 - val_accuracy: 0.8260\n",
      "Epoch 11/20\n",
      "16/16 [==============================] - 1s 49ms/step - loss: 0.2946 - accuracy: 0.9359 - val_loss: 0.8609 - val_accuracy: 0.8120\n",
      "Epoch 12/20\n",
      "16/16 [==============================] - 1s 49ms/step - loss: 0.2626 - accuracy: 0.9414 - val_loss: 0.8668 - val_accuracy: 0.8230\n",
      "Epoch 13/20\n",
      "16/16 [==============================] - 1s 49ms/step - loss: 0.2290 - accuracy: 0.9473 - val_loss: 0.8671 - val_accuracy: 0.8190\n",
      "Epoch 14/20\n",
      "16/16 [==============================] - 1s 50ms/step - loss: 0.2040 - accuracy: 0.9491 - val_loss: 0.8906 - val_accuracy: 0.8120\n",
      "Epoch 15/20\n",
      "16/16 [==============================] - 1s 49ms/step - loss: 0.1883 - accuracy: 0.9519 - val_loss: 0.8829 - val_accuracy: 0.8060\n",
      "Epoch 16/20\n",
      "16/16 [==============================] - 1s 50ms/step - loss: 0.1728 - accuracy: 0.9534 - val_loss: 0.9356 - val_accuracy: 0.8100\n",
      "Epoch 17/20\n",
      "16/16 [==============================] - 1s 49ms/step - loss: 0.1586 - accuracy: 0.9551 - val_loss: 0.9048 - val_accuracy: 0.8100\n",
      "Epoch 18/20\n",
      "16/16 [==============================] - 1s 49ms/step - loss: 0.1521 - accuracy: 0.9559 - val_loss: 0.9044 - val_accuracy: 0.8120\n",
      "Epoch 19/20\n",
      "16/16 [==============================] - 1s 48ms/step - loss: 0.1414 - accuracy: 0.9551 - val_loss: 0.9335 - val_accuracy: 0.8130\n",
      "Epoch 20/20\n",
      "16/16 [==============================] - 1s 49ms/step - loss: 0.1365 - accuracy: 0.9555 - val_loss: 0.9393 - val_accuracy: 0.8090\n"
     ]
    }
   ],
   "source": [
    "# Training the model\n",
    "history = model.fit(partial_x_train,\n",
    "partial_y_train,\n",
    "epochs=20,\n",
    "batch_size=512,\n",
    "validation_data=(x_val, y_val))"
   ]
  },
  {
   "cell_type": "code",
   "execution_count": 11,
   "id": "1a2e5ba5",
   "metadata": {
    "scrolled": true
   },
   "outputs": [
    {
     "data": {
      "text/plain": [
       "{'loss': [2.6864066123962402,\n",
       "  1.552306056022644,\n",
       "  1.1960618495941162,\n",
       "  0.9790068864822388,\n",
       "  0.8151661157608032,\n",
       "  0.6748158931732178,\n",
       "  0.5642168521881104,\n",
       "  0.4744778573513031,\n",
       "  0.3979281187057495,\n",
       "  0.34164759516716003,\n",
       "  0.294569194316864,\n",
       "  0.26260992884635925,\n",
       "  0.2289617508649826,\n",
       "  0.20403826236724854,\n",
       "  0.18825475871562958,\n",
       "  0.17280706763267517,\n",
       "  0.15855418145656586,\n",
       "  0.15214364230632782,\n",
       "  0.14142991602420807,\n",
       "  0.13653315603733063],\n",
       " 'accuracy': [0.4951139986515045,\n",
       "  0.672888994216919,\n",
       "  0.7327737212181091,\n",
       "  0.7797544598579407,\n",
       "  0.821222722530365,\n",
       "  0.8532949090003967,\n",
       "  0.8768479228019714,\n",
       "  0.8972688317298889,\n",
       "  0.9168128371238708,\n",
       "  0.9294663071632385,\n",
       "  0.9358556866645813,\n",
       "  0.9413681030273438,\n",
       "  0.947256326675415,\n",
       "  0.9491355419158936,\n",
       "  0.9518917798995972,\n",
       "  0.9533951282501221,\n",
       "  0.9551491141319275,\n",
       "  0.9559007883071899,\n",
       "  0.9551491141319275,\n",
       "  0.9555249214172363],\n",
       " 'val_loss': [1.839016079902649,\n",
       "  1.3864736557006836,\n",
       "  1.195912480354309,\n",
       "  1.0737138986587524,\n",
       "  0.9906455278396606,\n",
       "  0.9340538382530212,\n",
       "  0.9108918905258179,\n",
       "  0.8734144568443298,\n",
       "  0.8503977060317993,\n",
       "  0.8428709506988525,\n",
       "  0.8608964085578918,\n",
       "  0.866830050945282,\n",
       "  0.8671375513076782,\n",
       "  0.8905524611473083,\n",
       "  0.8829311728477478,\n",
       "  0.9356242418289185,\n",
       "  0.9048322439193726,\n",
       "  0.9044443964958191,\n",
       "  0.9335196614265442,\n",
       "  0.9393429756164551],\n",
       " 'val_accuracy': [0.6209999918937683,\n",
       "  0.6840000152587891,\n",
       "  0.7269999980926514,\n",
       "  0.7639999985694885,\n",
       "  0.7839999794960022,\n",
       "  0.8059999942779541,\n",
       "  0.800000011920929,\n",
       "  0.8040000200271606,\n",
       "  0.8149999976158142,\n",
       "  0.8259999752044678,\n",
       "  0.8119999766349792,\n",
       "  0.8230000138282776,\n",
       "  0.8190000057220459,\n",
       "  0.8119999766349792,\n",
       "  0.8059999942779541,\n",
       "  0.8100000023841858,\n",
       "  0.8100000023841858,\n",
       "  0.8119999766349792,\n",
       "  0.8130000233650208,\n",
       "  0.8090000152587891]}"
      ]
     },
     "execution_count": 11,
     "metadata": {},
     "output_type": "execute_result"
    }
   ],
   "source": [
    "history.history"
   ]
  },
  {
   "cell_type": "code",
   "execution_count": 12,
   "id": "af27590e",
   "metadata": {},
   "outputs": [
    {
     "data": {
      "image/png": "[encoded data removed]",
      "text/plain": [
       "<Figure size 640x480 with 1 Axes>"
      ]
     },
     "metadata": {},
     "output_type": "display_data"
    }
   ],
   "source": [
    "#  Plotting the training and validation loss\n",
    "\n",
    "import matplotlib.pyplot as plt\n",
    "loss = history.history['loss']\n",
    "val_loss = history.history['val_loss']\n",
    "epochs = range(1, len(loss) + 1)\n",
    "plt.plot(epochs, loss, 'bo', label='Training loss')\n",
    "plt.plot(epochs, val_loss, 'b', label='Validation loss')\n",
    "plt.title('Training and validation loss')\n",
    "plt.xlabel('Epochs')\n",
    "plt.ylabel('Loss')\n",
    "plt.legend()\n",
    "plt.show()"
   ]
  },
  {
   "cell_type": "code",
   "execution_count": 13,
   "id": "27bc1faf",
   "metadata": {},
   "outputs": [
    {
     "data": {
      "image/png": "[encoded data removed]",
      "text/plain": [
       "<Figure size 640x480 with 1 Axes>"
      ]
     },
     "metadata": {},
     "output_type": "display_data"
    }
   ],
   "source": [
    "# Plotting the training and validation accuracy\n",
    "\n",
    "plt.clf()\n",
    "acc = history.history['accuracy']\n",
    "val_acc = history.history['val_accuracy']\n",
    "plt.plot(epochs, acc, 'bo', label='Training acc')\n",
    "plt.plot(epochs, val_acc, 'b', label='Validation acc')\n",
    "plt.title('Training and validation accuracy')\n",
    "plt.xlabel('Epochs')\n",
    "plt.ylabel('Loss')\n",
    "plt.legend()\n",
    "plt.show()"
   ]
  },
  {
   "cell_type": "code",
   "execution_count": 14,
   "id": "cc64475f",
   "metadata": {},
   "outputs": [
    {
     "name": "stdout",
     "output_type": "stream",
     "text": [
      "Epoch 1/9\n",
      "16/16 [==============================] - 2s 75ms/step - loss: 2.7565 - accuracy: 0.4957 - val_loss: 1.9034 - val_accuracy: 0.6030\n",
      "Epoch 2/9\n",
      "16/16 [==============================] - 1s 49ms/step - loss: 1.5856 - accuracy: 0.6631 - val_loss: 1.4101 - val_accuracy: 0.7000\n",
      "Epoch 3/9\n",
      "16/16 [==============================] - 1s 49ms/step - loss: 1.2111 - accuracy: 0.7365 - val_loss: 1.2126 - val_accuracy: 0.7340\n",
      "Epoch 4/9\n",
      "16/16 [==============================] - 1s 48ms/step - loss: 0.9839 - accuracy: 0.7841 - val_loss: 1.0793 - val_accuracy: 0.7580\n",
      "Epoch 5/9\n",
      "16/16 [==============================] - 1s 47ms/step - loss: 0.8205 - accuracy: 0.8180 - val_loss: 1.0049 - val_accuracy: 0.7820\n",
      "Epoch 6/9\n",
      "16/16 [==============================] - 1s 48ms/step - loss: 0.6828 - accuracy: 0.8499 - val_loss: 1.0075 - val_accuracy: 0.7750\n",
      "Epoch 7/9\n",
      "16/16 [==============================] - 1s 47ms/step - loss: 0.5722 - accuracy: 0.8784 - val_loss: 0.8964 - val_accuracy: 0.8100\n",
      "Epoch 8/9\n",
      "16/16 [==============================] - 1s 48ms/step - loss: 0.4816 - accuracy: 0.9002 - val_loss: 0.8890 - val_accuracy: 0.8090\n",
      "Epoch 9/9\n",
      "16/16 [==============================] - 1s 49ms/step - loss: 0.4145 - accuracy: 0.9159 - val_loss: 0.8658 - val_accuracy: 0.8200\n",
      "71/71 [==============================] - 0s 5ms/step - loss: 0.9484 - accuracy: 0.7876\n"
     ]
    }
   ],
   "source": [
    "# Retraining a model from scratch\n",
    "\n",
    "model = models.Sequential()\n",
    "model.add(layers.Dense(64, activation='relu', input_shape=(10000,)))\n",
    "model.add(layers.Dense(64, activation='relu'))\n",
    "model.add(layers.Dense(46, activation='softmax'))\n",
    "model.compile(optimizer='rmsprop',\n",
    "loss='categorical_crossentropy',\n",
    "metrics=['accuracy'])\n",
    "model.fit(partial_x_train,\n",
    "partial_y_train,\n",
    "epochs=9,\n",
    "batch_size=512,\n",
    "validation_data=(x_val, y_val))\n",
    "results = model.evaluate(x_test, one_hot_test_labels)"
   ]
  },
  {
   "cell_type": "code",
   "execution_count": 15,
   "id": "954f98c7",
   "metadata": {},
   "outputs": [
    {
     "data": {
      "text/plain": [
       "[0.9483923316001892, 0.7876224517822266]"
      ]
     },
     "execution_count": 15,
     "metadata": {},
     "output_type": "execute_result"
    }
   ],
   "source": [
    "results"
   ]
  },
  {
   "cell_type": "markdown",
   "id": "972b7128",
   "metadata": {},
   "source": [
    "Accuracy of around 78%"
   ]
  },
  {
   "cell_type": "code",
   "execution_count": 16,
   "id": "a8052ab0",
   "metadata": {},
   "outputs": [
    {
     "data": {
      "text/plain": [
       "0.19590382902938558"
      ]
     },
     "execution_count": 16,
     "metadata": {},
     "output_type": "execute_result"
    }
   ],
   "source": [
    "import copy\n",
    "\n",
    "test_labels_copy = copy.copy(test_labels)\n",
    "np.random.shuffle(test_labels_copy)\n",
    "float(np.sum(np.array(test_labels) == np.array(test_labels_copy))) / len(test_labels)"
   ]
  },
  {
   "cell_type": "code",
   "execution_count": 17,
   "id": "bea4e291",
   "metadata": {},
   "outputs": [
    {
     "name": "stdout",
     "output_type": "stream",
     "text": [
      "71/71 [==============================] - 1s 5ms/step\n"
     ]
    }
   ],
   "source": [
    "#  Generating predictions for new data\n",
    "predictions = model.predict(x_test)"
   ]
  },
  {
   "cell_type": "code",
   "execution_count": 18,
   "id": "90fb4f2e",
   "metadata": {},
   "outputs": [
    {
     "data": {
      "text/plain": [
       "((46,), 1.0000001, 3)"
      ]
     },
     "execution_count": 18,
     "metadata": {},
     "output_type": "execute_result"
    }
   ],
   "source": [
    "predictions[0].shape, np.sum(predictions[0]),  np.argmax(predictions[0])"
   ]
  },
  {
   "cell_type": "code",
   "execution_count": 19,
   "id": "ce1c1680",
   "metadata": {},
   "outputs": [],
   "source": [
    "# Different way of handling lables and loss\n",
    "y_train = np.array(train_labels)\n",
    "y_test = np.array(test_labels)"
   ]
  },
  {
   "cell_type": "code",
   "execution_count": 20,
   "id": "4ebc233e",
   "metadata": {},
   "outputs": [],
   "source": [
    "model.compile(optimizer='rmsprop',\n",
    "loss='sparse_categorical_crossentropy', #categorical_crossentropy, expects the labels to follow a categorical encoding. \n",
    "metrics=['acc'])"
   ]
  },
  {
   "cell_type": "code",
   "execution_count": 21,
   "id": "68349657",
   "metadata": {
    "scrolled": false
   },
   "outputs": [
    {
     "name": "stdout",
     "output_type": "stream",
     "text": [
      "Epoch 1/20\n",
      "63/63 [==============================] - 3s 29ms/step - loss: 3.2918 - accuracy: 0.2116 - val_loss: 2.7866 - val_accuracy: 0.3710\n",
      "Epoch 2/20\n",
      "63/63 [==============================] - 1s 23ms/step - loss: 2.4571 - accuracy: 0.3726 - val_loss: 2.2554 - val_accuracy: 0.4010\n",
      "Epoch 3/20\n",
      "63/63 [==============================] - 1s 24ms/step - loss: 1.9904 - accuracy: 0.4260 - val_loss: 1.8122 - val_accuracy: 0.5460\n",
      "Epoch 4/20\n",
      "63/63 [==============================] - 1s 23ms/step - loss: 1.5713 - accuracy: 0.6027 - val_loss: 1.5647 - val_accuracy: 0.6250\n",
      "Epoch 5/20\n",
      "63/63 [==============================] - 1s 23ms/step - loss: 1.3776 - accuracy: 0.6433 - val_loss: 1.4942 - val_accuracy: 0.6370\n",
      "Epoch 6/20\n",
      "63/63 [==============================] - 2s 24ms/step - loss: 1.2580 - accuracy: 0.6619 - val_loss: 1.4478 - val_accuracy: 0.6590\n",
      "Epoch 7/20\n",
      "63/63 [==============================] - 2s 25ms/step - loss: 1.1778 - accuracy: 0.6868 - val_loss: 1.4364 - val_accuracy: 0.6570\n",
      "Epoch 8/20\n",
      "63/63 [==============================] - 2s 25ms/step - loss: 1.1153 - accuracy: 0.7124 - val_loss: 1.4353 - val_accuracy: 0.6560\n",
      "Epoch 9/20\n",
      "63/63 [==============================] - 2s 24ms/step - loss: 1.0623 - accuracy: 0.7225 - val_loss: 1.4279 - val_accuracy: 0.6640\n",
      "Epoch 10/20\n",
      "63/63 [==============================] - 2s 25ms/step - loss: 1.0160 - accuracy: 0.7290 - val_loss: 1.4564 - val_accuracy: 0.6790\n",
      "Epoch 11/20\n",
      "63/63 [==============================] - 2s 24ms/step - loss: 0.9729 - accuracy: 0.7359 - val_loss: 1.4340 - val_accuracy: 0.6650\n",
      "Epoch 12/20\n",
      "63/63 [==============================] - 2s 24ms/step - loss: 0.9367 - accuracy: 0.7397 - val_loss: 1.4443 - val_accuracy: 0.6750\n",
      "Epoch 13/20\n",
      "63/63 [==============================] - 2s 24ms/step - loss: 0.9044 - accuracy: 0.7429 - val_loss: 1.4923 - val_accuracy: 0.6740\n",
      "Epoch 14/20\n",
      "63/63 [==============================] - 2s 24ms/step - loss: 0.8760 - accuracy: 0.7457 - val_loss: 1.5063 - val_accuracy: 0.6730\n",
      "Epoch 15/20\n",
      "63/63 [==============================] - 2s 24ms/step - loss: 0.8489 - accuracy: 0.7489 - val_loss: 1.5661 - val_accuracy: 0.6820\n",
      "Epoch 16/20\n",
      "63/63 [==============================] - 2s 24ms/step - loss: 0.8250 - accuracy: 0.7573 - val_loss: 1.5820 - val_accuracy: 0.6690\n",
      "Epoch 17/20\n",
      "63/63 [==============================] - 2s 24ms/step - loss: 0.8028 - accuracy: 0.7610 - val_loss: 1.6099 - val_accuracy: 0.6760\n",
      "Epoch 18/20\n",
      "63/63 [==============================] - 2s 25ms/step - loss: 0.7819 - accuracy: 0.7712 - val_loss: 1.6465 - val_accuracy: 0.6770\n",
      "Epoch 19/20\n",
      "63/63 [==============================] - 2s 24ms/step - loss: 0.7617 - accuracy: 0.7795 - val_loss: 1.7157 - val_accuracy: 0.6710\n",
      "Epoch 20/20\n",
      "63/63 [==============================] - 2s 24ms/step - loss: 0.7440 - accuracy: 0.7870 - val_loss: 1.7212 - val_accuracy: 0.6850\n"
     ]
    },
    {
     "data": {
      "text/plain": [
       "<keras.callbacks.History at 0x1bc8d0dcf10>"
      ]
     },
     "execution_count": 21,
     "metadata": {},
     "output_type": "execute_result"
    }
   ],
   "source": [
    "# A model with an information bottleneck\n",
    "model = models.Sequential()\n",
    "model.add(layers.Dense(64, activation='relu', input_shape=(10000,)))\n",
    "model.add(layers.Dense(4, activation='relu'))\n",
    "model.add(layers.Dense(46, activation='softmax'))\n",
    "model.compile(optimizer='rmsprop',\n",
    "loss='categorical_crossentropy',\n",
    "metrics=['accuracy'])\n",
    "model.fit(partial_x_train,\n",
    "partial_y_train,\n",
    "epochs=20,\n",
    "batch_size=128,\n",
    "validation_data=(x_val, y_val))"
   ]
  }
 ],
 "metadata": {
  "kernelspec": {
   "display_name": "Python 3 (ipykernel)",
   "language": "python",
   "name": "python3"
  },
  "language_info": {
   "codemirror_mode": {
    "name": "ipython",
    "version": 3
   },
   "file_extension": ".py",
   "mimetype": "text/x-python",
   "name": "python",
   "nbconvert_exporter": "python",
   "pygments_lexer": "ipython3",
   "version": "3.9.16"
  }
 },
 "nbformat": 4,
 "nbformat_minor": 5
}
